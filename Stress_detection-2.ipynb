{
 "cells": [
  {
   "cell_type": "code",
   "execution_count": 47,
   "id": "55614f40",
   "metadata": {},
   "outputs": [],
   "source": [
    "import csv\n",
    "import pandas as pd\n",
    "import matplotlib.pyplot as plt\n",
    "import numpy as np\n",
    "import seaborn as sns\n",
    "from sklearn.model_selection import train_test_split\n",
    "from sklearn.metrics import confusion_matrix, accuracy_score\n",
    "from math import sqrt\n",
    "from sklearn.metrics import r2_score\n",
    "from sklearn.metrics import mean_squared_error\n",
    "from sklearn.metrics import precision_score,recall_score, confusion_matrix, classification_report,accuracy_score, f1_score\n",
    "from sklearn.model_selection import RandomizedSearchCV\n",
    "from sklearn.ensemble import RandomForestRegressor\n",
    "from sklearn import metrics \n",
    "import xgboost as xgb\n",
    "\n",
    "from sklearn.tree import DecisionTreeRegressor"
   ]
  },
  {
   "cell_type": "code",
   "execution_count": null,
   "id": "28fb1d56",
   "metadata": {},
   "outputs": [],
   "source": []
  },
  {
   "cell_type": "code",
   "execution_count": 3,
   "id": "c6502e4f",
   "metadata": {},
   "outputs": [],
   "source": [
    "stress_clinical=pd.read_csv(\"combined_lagEDA.csv\")"
   ]
  },
  {
   "cell_type": "code",
   "execution_count": 4,
   "id": "3aad37b4",
   "metadata": {},
   "outputs": [
    {
     "data": {
      "text/html": [
       "<div>\n",
       "<style scoped>\n",
       "    .dataframe tbody tr th:only-of-type {\n",
       "        vertical-align: middle;\n",
       "    }\n",
       "\n",
       "    .dataframe tbody tr th {\n",
       "        vertical-align: top;\n",
       "    }\n",
       "\n",
       "    .dataframe thead th {\n",
       "        text-align: right;\n",
       "    }\n",
       "</style>\n",
       "<table border=\"1\" class=\"dataframe\">\n",
       "  <thead>\n",
       "    <tr style=\"text-align: right;\">\n",
       "      <th></th>\n",
       "      <th>30</th>\n",
       "      <th>29</th>\n",
       "      <th>28</th>\n",
       "      <th>27</th>\n",
       "      <th>26</th>\n",
       "      <th>25</th>\n",
       "      <th>24</th>\n",
       "      <th>23</th>\n",
       "      <th>22</th>\n",
       "      <th>21</th>\n",
       "      <th>...</th>\n",
       "      <th>HRR_Mean</th>\n",
       "      <th>HRR_Min</th>\n",
       "      <th>HRR_Max</th>\n",
       "      <th>HRR_Std</th>\n",
       "      <th>HRR_RMS</th>\n",
       "      <th>TEMPR_Mean</th>\n",
       "      <th>TEMPR_Min</th>\n",
       "      <th>TEMPR_Max</th>\n",
       "      <th>TEMPR_Std</th>\n",
       "      <th>Stress</th>\n",
       "    </tr>\n",
       "  </thead>\n",
       "  <tbody>\n",
       "    <tr>\n",
       "      <th>0</th>\n",
       "      <td>0.132578</td>\n",
       "      <td>0.123534</td>\n",
       "      <td>0.115152</td>\n",
       "      <td>0.110787</td>\n",
       "      <td>0.109565</td>\n",
       "      <td>0.106694</td>\n",
       "      <td>0.100631</td>\n",
       "      <td>0.093710</td>\n",
       "      <td>0.088657</td>\n",
       "      <td>0.084547</td>\n",
       "      <td>...</td>\n",
       "      <td>0.641552</td>\n",
       "      <td>0.639566</td>\n",
       "      <td>0.643243</td>\n",
       "      <td>0.100525</td>\n",
       "      <td>0.235069</td>\n",
       "      <td>0.821491</td>\n",
       "      <td>0.821239</td>\n",
       "      <td>0.823944</td>\n",
       "      <td>0.120422</td>\n",
       "      <td>0.0</td>\n",
       "    </tr>\n",
       "    <tr>\n",
       "      <th>1</th>\n",
       "      <td>0.123534</td>\n",
       "      <td>0.115152</td>\n",
       "      <td>0.110787</td>\n",
       "      <td>0.109565</td>\n",
       "      <td>0.106694</td>\n",
       "      <td>0.100631</td>\n",
       "      <td>0.093710</td>\n",
       "      <td>0.088657</td>\n",
       "      <td>0.084547</td>\n",
       "      <td>0.084598</td>\n",
       "      <td>...</td>\n",
       "      <td>0.642973</td>\n",
       "      <td>0.639566</td>\n",
       "      <td>0.643243</td>\n",
       "      <td>0.089270</td>\n",
       "      <td>0.229293</td>\n",
       "      <td>0.827471</td>\n",
       "      <td>0.828319</td>\n",
       "      <td>0.830986</td>\n",
       "      <td>0.105027</td>\n",
       "      <td>0.0</td>\n",
       "    </tr>\n",
       "    <tr>\n",
       "      <th>2</th>\n",
       "      <td>0.115152</td>\n",
       "      <td>0.110787</td>\n",
       "      <td>0.109565</td>\n",
       "      <td>0.106694</td>\n",
       "      <td>0.100631</td>\n",
       "      <td>0.093710</td>\n",
       "      <td>0.088657</td>\n",
       "      <td>0.084547</td>\n",
       "      <td>0.084598</td>\n",
       "      <td>0.089846</td>\n",
       "      <td>...</td>\n",
       "      <td>0.643921</td>\n",
       "      <td>0.640921</td>\n",
       "      <td>0.645946</td>\n",
       "      <td>0.083372</td>\n",
       "      <td>0.157093</td>\n",
       "      <td>0.832395</td>\n",
       "      <td>0.831858</td>\n",
       "      <td>0.834507</td>\n",
       "      <td>0.099446</td>\n",
       "      <td>0.0</td>\n",
       "    </tr>\n",
       "    <tr>\n",
       "      <th>3</th>\n",
       "      <td>0.110787</td>\n",
       "      <td>0.109565</td>\n",
       "      <td>0.106694</td>\n",
       "      <td>0.100631</td>\n",
       "      <td>0.093710</td>\n",
       "      <td>0.088657</td>\n",
       "      <td>0.084547</td>\n",
       "      <td>0.084598</td>\n",
       "      <td>0.089846</td>\n",
       "      <td>0.094890</td>\n",
       "      <td>...</td>\n",
       "      <td>0.645952</td>\n",
       "      <td>0.644986</td>\n",
       "      <td>0.645946</td>\n",
       "      <td>0.041375</td>\n",
       "      <td>0.131024</td>\n",
       "      <td>0.837759</td>\n",
       "      <td>0.842478</td>\n",
       "      <td>0.839789</td>\n",
       "      <td>0.089739</td>\n",
       "      <td>0.0</td>\n",
       "    </tr>\n",
       "    <tr>\n",
       "      <th>4</th>\n",
       "      <td>0.109565</td>\n",
       "      <td>0.106694</td>\n",
       "      <td>0.100631</td>\n",
       "      <td>0.093710</td>\n",
       "      <td>0.088657</td>\n",
       "      <td>0.084547</td>\n",
       "      <td>0.084598</td>\n",
       "      <td>0.089846</td>\n",
       "      <td>0.094890</td>\n",
       "      <td>0.098347</td>\n",
       "      <td>...</td>\n",
       "      <td>0.646764</td>\n",
       "      <td>0.644986</td>\n",
       "      <td>0.648649</td>\n",
       "      <td>0.066093</td>\n",
       "      <td>0.113470</td>\n",
       "      <td>0.843123</td>\n",
       "      <td>0.846018</td>\n",
       "      <td>0.848592</td>\n",
       "      <td>0.095171</td>\n",
       "      <td>0.0</td>\n",
       "    </tr>\n",
       "    <tr>\n",
       "      <th>5</th>\n",
       "      <td>0.106694</td>\n",
       "      <td>0.100631</td>\n",
       "      <td>0.093710</td>\n",
       "      <td>0.088657</td>\n",
       "      <td>0.084547</td>\n",
       "      <td>0.084598</td>\n",
       "      <td>0.089846</td>\n",
       "      <td>0.094890</td>\n",
       "      <td>0.098347</td>\n",
       "      <td>0.101107</td>\n",
       "      <td>...</td>\n",
       "      <td>0.649743</td>\n",
       "      <td>0.644986</td>\n",
       "      <td>0.651351</td>\n",
       "      <td>0.095655</td>\n",
       "      <td>0.131024</td>\n",
       "      <td>0.848663</td>\n",
       "      <td>0.851327</td>\n",
       "      <td>0.852113</td>\n",
       "      <td>0.115869</td>\n",
       "      <td>0.0</td>\n",
       "    </tr>\n",
       "    <tr>\n",
       "      <th>6</th>\n",
       "      <td>0.100631</td>\n",
       "      <td>0.093710</td>\n",
       "      <td>0.088657</td>\n",
       "      <td>0.084547</td>\n",
       "      <td>0.084598</td>\n",
       "      <td>0.089846</td>\n",
       "      <td>0.094890</td>\n",
       "      <td>0.098347</td>\n",
       "      <td>0.101107</td>\n",
       "      <td>0.104240</td>\n",
       "      <td>...</td>\n",
       "      <td>0.653128</td>\n",
       "      <td>0.653117</td>\n",
       "      <td>0.654054</td>\n",
       "      <td>0.047827</td>\n",
       "      <td>0.122562</td>\n",
       "      <td>0.855259</td>\n",
       "      <td>0.856637</td>\n",
       "      <td>0.859155</td>\n",
       "      <td>0.114968</td>\n",
       "      <td>0.0</td>\n",
       "    </tr>\n",
       "    <tr>\n",
       "      <th>7</th>\n",
       "      <td>0.093710</td>\n",
       "      <td>0.088657</td>\n",
       "      <td>0.084547</td>\n",
       "      <td>0.084598</td>\n",
       "      <td>0.089846</td>\n",
       "      <td>0.094890</td>\n",
       "      <td>0.098347</td>\n",
       "      <td>0.101107</td>\n",
       "      <td>0.104240</td>\n",
       "      <td>0.108121</td>\n",
       "      <td>...</td>\n",
       "      <td>0.654211</td>\n",
       "      <td>0.653117</td>\n",
       "      <td>0.654054</td>\n",
       "      <td>0.036646</td>\n",
       "      <td>0.103584</td>\n",
       "      <td>0.860359</td>\n",
       "      <td>0.863717</td>\n",
       "      <td>0.862676</td>\n",
       "      <td>0.078468</td>\n",
       "      <td>0.0</td>\n",
       "    </tr>\n",
       "    <tr>\n",
       "      <th>8</th>\n",
       "      <td>0.088657</td>\n",
       "      <td>0.084547</td>\n",
       "      <td>0.084598</td>\n",
       "      <td>0.089846</td>\n",
       "      <td>0.094890</td>\n",
       "      <td>0.098347</td>\n",
       "      <td>0.101107</td>\n",
       "      <td>0.104240</td>\n",
       "      <td>0.108121</td>\n",
       "      <td>0.112588</td>\n",
       "      <td>...</td>\n",
       "      <td>0.655294</td>\n",
       "      <td>0.655827</td>\n",
       "      <td>0.654054</td>\n",
       "      <td>0.038223</td>\n",
       "      <td>0.080236</td>\n",
       "      <td>0.863876</td>\n",
       "      <td>0.867257</td>\n",
       "      <td>0.866197</td>\n",
       "      <td>0.089772</td>\n",
       "      <td>0.0</td>\n",
       "    </tr>\n",
       "    <tr>\n",
       "      <th>9</th>\n",
       "      <td>0.084547</td>\n",
       "      <td>0.084598</td>\n",
       "      <td>0.089846</td>\n",
       "      <td>0.094890</td>\n",
       "      <td>0.098347</td>\n",
       "      <td>0.101107</td>\n",
       "      <td>0.104240</td>\n",
       "      <td>0.108121</td>\n",
       "      <td>0.112588</td>\n",
       "      <td>0.117063</td>\n",
       "      <td>...</td>\n",
       "      <td>0.657799</td>\n",
       "      <td>0.655827</td>\n",
       "      <td>0.658108</td>\n",
       "      <td>0.052216</td>\n",
       "      <td>0.076820</td>\n",
       "      <td>0.867130</td>\n",
       "      <td>0.870796</td>\n",
       "      <td>0.867958</td>\n",
       "      <td>0.068042</td>\n",
       "      <td>0.0</td>\n",
       "    </tr>\n",
       "    <tr>\n",
       "      <th>10</th>\n",
       "      <td>0.084598</td>\n",
       "      <td>0.089846</td>\n",
       "      <td>0.094890</td>\n",
       "      <td>0.098347</td>\n",
       "      <td>0.101107</td>\n",
       "      <td>0.104240</td>\n",
       "      <td>0.108121</td>\n",
       "      <td>0.112588</td>\n",
       "      <td>0.117063</td>\n",
       "      <td>0.119653</td>\n",
       "      <td>...</td>\n",
       "      <td>0.661251</td>\n",
       "      <td>0.658537</td>\n",
       "      <td>0.664865</td>\n",
       "      <td>0.080123</td>\n",
       "      <td>0.113470</td>\n",
       "      <td>0.869768</td>\n",
       "      <td>0.874336</td>\n",
       "      <td>0.871479</td>\n",
       "      <td>0.052230</td>\n",
       "      <td>0.0</td>\n",
       "    </tr>\n",
       "    <tr>\n",
       "      <th>11</th>\n",
       "      <td>0.089846</td>\n",
       "      <td>0.094890</td>\n",
       "      <td>0.098347</td>\n",
       "      <td>0.101107</td>\n",
       "      <td>0.104240</td>\n",
       "      <td>0.108121</td>\n",
       "      <td>0.112588</td>\n",
       "      <td>0.117063</td>\n",
       "      <td>0.119653</td>\n",
       "      <td>0.119543</td>\n",
       "      <td>...</td>\n",
       "      <td>0.663891</td>\n",
       "      <td>0.662602</td>\n",
       "      <td>0.664865</td>\n",
       "      <td>0.058859</td>\n",
       "      <td>0.095500</td>\n",
       "      <td>0.875572</td>\n",
       "      <td>0.879646</td>\n",
       "      <td>0.880282</td>\n",
       "      <td>0.135187</td>\n",
       "      <td>0.0</td>\n",
       "    </tr>\n",
       "    <tr>\n",
       "      <th>12</th>\n",
       "      <td>0.094890</td>\n",
       "      <td>0.098347</td>\n",
       "      <td>0.101107</td>\n",
       "      <td>0.104240</td>\n",
       "      <td>0.108121</td>\n",
       "      <td>0.112588</td>\n",
       "      <td>0.117063</td>\n",
       "      <td>0.119653</td>\n",
       "      <td>0.119543</td>\n",
       "      <td>0.119534</td>\n",
       "      <td>...</td>\n",
       "      <td>0.666802</td>\n",
       "      <td>0.666667</td>\n",
       "      <td>0.670270</td>\n",
       "      <td>0.086243</td>\n",
       "      <td>0.113470</td>\n",
       "      <td>0.881551</td>\n",
       "      <td>0.883186</td>\n",
       "      <td>0.883803</td>\n",
       "      <td>0.077515</td>\n",
       "      <td>0.0</td>\n",
       "    </tr>\n",
       "    <tr>\n",
       "      <th>13</th>\n",
       "      <td>0.098347</td>\n",
       "      <td>0.101107</td>\n",
       "      <td>0.104240</td>\n",
       "      <td>0.108121</td>\n",
       "      <td>0.112588</td>\n",
       "      <td>0.117063</td>\n",
       "      <td>0.119653</td>\n",
       "      <td>0.119543</td>\n",
       "      <td>0.119534</td>\n",
       "      <td>0.119619</td>\n",
       "      <td>...</td>\n",
       "      <td>0.671135</td>\n",
       "      <td>0.666667</td>\n",
       "      <td>0.672973</td>\n",
       "      <td>0.092198</td>\n",
       "      <td>0.131024</td>\n",
       "      <td>0.884453</td>\n",
       "      <td>0.888496</td>\n",
       "      <td>0.883803</td>\n",
       "      <td>0.064684</td>\n",
       "      <td>0.0</td>\n",
       "    </tr>\n",
       "    <tr>\n",
       "      <th>14</th>\n",
       "      <td>0.101107</td>\n",
       "      <td>0.104240</td>\n",
       "      <td>0.108121</td>\n",
       "      <td>0.112588</td>\n",
       "      <td>0.117063</td>\n",
       "      <td>0.119653</td>\n",
       "      <td>0.119543</td>\n",
       "      <td>0.119534</td>\n",
       "      <td>0.119619</td>\n",
       "      <td>0.116757</td>\n",
       "      <td>...</td>\n",
       "      <td>0.674384</td>\n",
       "      <td>0.672087</td>\n",
       "      <td>0.675676</td>\n",
       "      <td>0.056459</td>\n",
       "      <td>0.131024</td>\n",
       "      <td>0.883222</td>\n",
       "      <td>0.888496</td>\n",
       "      <td>0.883803</td>\n",
       "      <td>0.084309</td>\n",
       "      <td>0.0</td>\n",
       "    </tr>\n",
       "    <tr>\n",
       "      <th>15</th>\n",
       "      <td>0.104240</td>\n",
       "      <td>0.108121</td>\n",
       "      <td>0.112588</td>\n",
       "      <td>0.117063</td>\n",
       "      <td>0.119653</td>\n",
       "      <td>0.119543</td>\n",
       "      <td>0.119534</td>\n",
       "      <td>0.119619</td>\n",
       "      <td>0.116757</td>\n",
       "      <td>0.112927</td>\n",
       "      <td>...</td>\n",
       "      <td>0.677363</td>\n",
       "      <td>0.674797</td>\n",
       "      <td>0.678378</td>\n",
       "      <td>0.073293</td>\n",
       "      <td>0.146490</td>\n",
       "      <td>0.878386</td>\n",
       "      <td>0.879646</td>\n",
       "      <td>0.880282</td>\n",
       "      <td>0.103746</td>\n",
       "      <td>0.0</td>\n",
       "    </tr>\n",
       "    <tr>\n",
       "      <th>16</th>\n",
       "      <td>0.108121</td>\n",
       "      <td>0.112588</td>\n",
       "      <td>0.117063</td>\n",
       "      <td>0.119653</td>\n",
       "      <td>0.119543</td>\n",
       "      <td>0.119534</td>\n",
       "      <td>0.119619</td>\n",
       "      <td>0.116757</td>\n",
       "      <td>0.112927</td>\n",
       "      <td>0.111942</td>\n",
       "      <td>...</td>\n",
       "      <td>0.680409</td>\n",
       "      <td>0.677507</td>\n",
       "      <td>0.679730</td>\n",
       "      <td>0.050492</td>\n",
       "      <td>0.095500</td>\n",
       "      <td>0.875044</td>\n",
       "      <td>0.879646</td>\n",
       "      <td>0.880282</td>\n",
       "      <td>0.086502</td>\n",
       "      <td>0.0</td>\n",
       "    </tr>\n",
       "    <tr>\n",
       "      <th>17</th>\n",
       "      <td>0.112588</td>\n",
       "      <td>0.117063</td>\n",
       "      <td>0.119653</td>\n",
       "      <td>0.119543</td>\n",
       "      <td>0.119534</td>\n",
       "      <td>0.119619</td>\n",
       "      <td>0.116757</td>\n",
       "      <td>0.112927</td>\n",
       "      <td>0.111942</td>\n",
       "      <td>0.112800</td>\n",
       "      <td>...</td>\n",
       "      <td>0.682575</td>\n",
       "      <td>0.682927</td>\n",
       "      <td>0.682432</td>\n",
       "      <td>0.041863</td>\n",
       "      <td>0.051792</td>\n",
       "      <td>0.873637</td>\n",
       "      <td>0.879646</td>\n",
       "      <td>0.876761</td>\n",
       "      <td>0.056177</td>\n",
       "      <td>0.0</td>\n",
       "    </tr>\n",
       "    <tr>\n",
       "      <th>18</th>\n",
       "      <td>0.117063</td>\n",
       "      <td>0.119653</td>\n",
       "      <td>0.119543</td>\n",
       "      <td>0.119534</td>\n",
       "      <td>0.119619</td>\n",
       "      <td>0.116757</td>\n",
       "      <td>0.112927</td>\n",
       "      <td>0.111942</td>\n",
       "      <td>0.112800</td>\n",
       "      <td>0.112375</td>\n",
       "      <td>...</td>\n",
       "      <td>0.684877</td>\n",
       "      <td>0.684282</td>\n",
       "      <td>0.686486</td>\n",
       "      <td>0.058859</td>\n",
       "      <td>0.083512</td>\n",
       "      <td>0.876099</td>\n",
       "      <td>0.879646</td>\n",
       "      <td>0.880282</td>\n",
       "      <td>0.103975</td>\n",
       "      <td>0.0</td>\n",
       "    </tr>\n",
       "    <tr>\n",
       "      <th>19</th>\n",
       "      <td>0.119653</td>\n",
       "      <td>0.119543</td>\n",
       "      <td>0.119534</td>\n",
       "      <td>0.119619</td>\n",
       "      <td>0.116757</td>\n",
       "      <td>0.112927</td>\n",
       "      <td>0.111942</td>\n",
       "      <td>0.112800</td>\n",
       "      <td>0.112375</td>\n",
       "      <td>0.110703</td>\n",
       "      <td>...</td>\n",
       "      <td>0.688262</td>\n",
       "      <td>0.686992</td>\n",
       "      <td>0.689189</td>\n",
       "      <td>0.075353</td>\n",
       "      <td>0.106142</td>\n",
       "      <td>0.881463</td>\n",
       "      <td>0.883186</td>\n",
       "      <td>0.883803</td>\n",
       "      <td>0.103315</td>\n",
       "      <td>0.0</td>\n",
       "    </tr>\n",
       "  </tbody>\n",
       "</table>\n",
       "<p>20 rows × 49 columns</p>\n",
       "</div>"
      ],
      "text/plain": [
       "          30        29        28        27        26        25        24  \\\n",
       "0   0.132578  0.123534  0.115152  0.110787  0.109565  0.106694  0.100631   \n",
       "1   0.123534  0.115152  0.110787  0.109565  0.106694  0.100631  0.093710   \n",
       "2   0.115152  0.110787  0.109565  0.106694  0.100631  0.093710  0.088657   \n",
       "3   0.110787  0.109565  0.106694  0.100631  0.093710  0.088657  0.084547   \n",
       "4   0.109565  0.106694  0.100631  0.093710  0.088657  0.084547  0.084598   \n",
       "5   0.106694  0.100631  0.093710  0.088657  0.084547  0.084598  0.089846   \n",
       "6   0.100631  0.093710  0.088657  0.084547  0.084598  0.089846  0.094890   \n",
       "7   0.093710  0.088657  0.084547  0.084598  0.089846  0.094890  0.098347   \n",
       "8   0.088657  0.084547  0.084598  0.089846  0.094890  0.098347  0.101107   \n",
       "9   0.084547  0.084598  0.089846  0.094890  0.098347  0.101107  0.104240   \n",
       "10  0.084598  0.089846  0.094890  0.098347  0.101107  0.104240  0.108121   \n",
       "11  0.089846  0.094890  0.098347  0.101107  0.104240  0.108121  0.112588   \n",
       "12  0.094890  0.098347  0.101107  0.104240  0.108121  0.112588  0.117063   \n",
       "13  0.098347  0.101107  0.104240  0.108121  0.112588  0.117063  0.119653   \n",
       "14  0.101107  0.104240  0.108121  0.112588  0.117063  0.119653  0.119543   \n",
       "15  0.104240  0.108121  0.112588  0.117063  0.119653  0.119543  0.119534   \n",
       "16  0.108121  0.112588  0.117063  0.119653  0.119543  0.119534  0.119619   \n",
       "17  0.112588  0.117063  0.119653  0.119543  0.119534  0.119619  0.116757   \n",
       "18  0.117063  0.119653  0.119543  0.119534  0.119619  0.116757  0.112927   \n",
       "19  0.119653  0.119543  0.119534  0.119619  0.116757  0.112927  0.111942   \n",
       "\n",
       "          23        22        21  ...  HRR_Mean   HRR_Min   HRR_Max   HRR_Std  \\\n",
       "0   0.093710  0.088657  0.084547  ...  0.641552  0.639566  0.643243  0.100525   \n",
       "1   0.088657  0.084547  0.084598  ...  0.642973  0.639566  0.643243  0.089270   \n",
       "2   0.084547  0.084598  0.089846  ...  0.643921  0.640921  0.645946  0.083372   \n",
       "3   0.084598  0.089846  0.094890  ...  0.645952  0.644986  0.645946  0.041375   \n",
       "4   0.089846  0.094890  0.098347  ...  0.646764  0.644986  0.648649  0.066093   \n",
       "5   0.094890  0.098347  0.101107  ...  0.649743  0.644986  0.651351  0.095655   \n",
       "6   0.098347  0.101107  0.104240  ...  0.653128  0.653117  0.654054  0.047827   \n",
       "7   0.101107  0.104240  0.108121  ...  0.654211  0.653117  0.654054  0.036646   \n",
       "8   0.104240  0.108121  0.112588  ...  0.655294  0.655827  0.654054  0.038223   \n",
       "9   0.108121  0.112588  0.117063  ...  0.657799  0.655827  0.658108  0.052216   \n",
       "10  0.112588  0.117063  0.119653  ...  0.661251  0.658537  0.664865  0.080123   \n",
       "11  0.117063  0.119653  0.119543  ...  0.663891  0.662602  0.664865  0.058859   \n",
       "12  0.119653  0.119543  0.119534  ...  0.666802  0.666667  0.670270  0.086243   \n",
       "13  0.119543  0.119534  0.119619  ...  0.671135  0.666667  0.672973  0.092198   \n",
       "14  0.119534  0.119619  0.116757  ...  0.674384  0.672087  0.675676  0.056459   \n",
       "15  0.119619  0.116757  0.112927  ...  0.677363  0.674797  0.678378  0.073293   \n",
       "16  0.116757  0.112927  0.111942  ...  0.680409  0.677507  0.679730  0.050492   \n",
       "17  0.112927  0.111942  0.112800  ...  0.682575  0.682927  0.682432  0.041863   \n",
       "18  0.111942  0.112800  0.112375  ...  0.684877  0.684282  0.686486  0.058859   \n",
       "19  0.112800  0.112375  0.110703  ...  0.688262  0.686992  0.689189  0.075353   \n",
       "\n",
       "     HRR_RMS  TEMPR_Mean  TEMPR_Min  TEMPR_Max  TEMPR_Std  Stress  \n",
       "0   0.235069    0.821491   0.821239   0.823944   0.120422     0.0  \n",
       "1   0.229293    0.827471   0.828319   0.830986   0.105027     0.0  \n",
       "2   0.157093    0.832395   0.831858   0.834507   0.099446     0.0  \n",
       "3   0.131024    0.837759   0.842478   0.839789   0.089739     0.0  \n",
       "4   0.113470    0.843123   0.846018   0.848592   0.095171     0.0  \n",
       "5   0.131024    0.848663   0.851327   0.852113   0.115869     0.0  \n",
       "6   0.122562    0.855259   0.856637   0.859155   0.114968     0.0  \n",
       "7   0.103584    0.860359   0.863717   0.862676   0.078468     0.0  \n",
       "8   0.080236    0.863876   0.867257   0.866197   0.089772     0.0  \n",
       "9   0.076820    0.867130   0.870796   0.867958   0.068042     0.0  \n",
       "10  0.113470    0.869768   0.874336   0.871479   0.052230     0.0  \n",
       "11  0.095500    0.875572   0.879646   0.880282   0.135187     0.0  \n",
       "12  0.113470    0.881551   0.883186   0.883803   0.077515     0.0  \n",
       "13  0.131024    0.884453   0.888496   0.883803   0.064684     0.0  \n",
       "14  0.131024    0.883222   0.888496   0.883803   0.084309     0.0  \n",
       "15  0.146490    0.878386   0.879646   0.880282   0.103746     0.0  \n",
       "16  0.095500    0.875044   0.879646   0.880282   0.086502     0.0  \n",
       "17  0.051792    0.873637   0.879646   0.876761   0.056177     0.0  \n",
       "18  0.083512    0.876099   0.879646   0.880282   0.103975     0.0  \n",
       "19  0.106142    0.881463   0.883186   0.883803   0.103315     0.0  \n",
       "\n",
       "[20 rows x 49 columns]"
      ]
     },
     "execution_count": 4,
     "metadata": {},
     "output_type": "execute_result"
    }
   ],
   "source": [
    "stress_clinical.head(20)       #already has stress label"
   ]
  },
  {
   "cell_type": "code",
   "execution_count": 5,
   "id": "66f5249d",
   "metadata": {},
   "outputs": [
    {
     "name": "stdout",
     "output_type": "stream",
     "text": [
      "Index(['30', '29', '28', '27', '26', '25', '24', '23', '22', '21', '20', '19',\n",
      "       '18', '17', '16', '15', '14', '13', '12', '11', '10', '9', '8', '7',\n",
      "       '6', '5', '4', '3', '2', '1', 'EDAR_Mean', 'EDAR_Min', 'EDAR_Max',\n",
      "       'EDAR_Std', 'EDAR_Kurtosis', 'EDAR_Skew', 'Num_PeaksR',\n",
      "       'EDAR_Amphitude', 'EDAR_Duration', 'HRR_Mean', 'HRR_Min', 'HRR_Max',\n",
      "       'HRR_Std', 'HRR_RMS', 'TEMPR_Mean', 'TEMPR_Min', 'TEMPR_Max',\n",
      "       'TEMPR_Std', 'Stress'],\n",
      "      dtype='object')\n"
     ]
    }
   ],
   "source": [
    "print(stress_clinical.columns)"
   ]
  },
  {
   "cell_type": "code",
   "execution_count": null,
   "id": "50e2e7a3",
   "metadata": {},
   "outputs": [],
   "source": []
  },
  {
   "cell_type": "code",
   "execution_count": 6,
   "id": "03f6c70f",
   "metadata": {},
   "outputs": [
    {
     "data": {
      "text/plain": [
       "0.0    5410\n",
       "2.0    4785\n",
       "1.0    2250\n",
       "Name: Stress, dtype: int64"
      ]
     },
     "execution_count": 6,
     "metadata": {},
     "output_type": "execute_result"
    }
   ],
   "source": [
    "stress_clinical[\"Stress\"].value_counts() \n",
    "# 0.0 - No stress  1.0 - Medium stress  2.0 - High stress"
   ]
  },
  {
   "cell_type": "code",
   "execution_count": 7,
   "id": "10e33974",
   "metadata": {},
   "outputs": [
    {
     "data": {
      "image/png": "[encoded data removed]",
      "text/plain": [
       "<Figure size 432x288 with 1 Axes>"
      ]
     },
     "metadata": {
      "needs_background": "light"
     },
     "output_type": "display_data"
    }
   ],
   "source": [
    "sns.countplot(x=\"Stress\", data =stress_clinical)\n",
    "plt.show()"
   ]
  },
  {
   "cell_type": "code",
   "execution_count": 8,
   "id": "c6f61814",
   "metadata": {},
   "outputs": [],
   "source": [
    "EDA_file=pd.read_csv(\"EDA.csv\")"
   ]
  },
  {
   "cell_type": "code",
   "execution_count": 9,
   "id": "344b6b80",
   "metadata": {},
   "outputs": [
    {
     "data": {
      "text/html": [
       "<div>\n",
       "<style scoped>\n",
       "    .dataframe tbody tr th:only-of-type {\n",
       "        vertical-align: middle;\n",
       "    }\n",
       "\n",
       "    .dataframe tbody tr th {\n",
       "        vertical-align: top;\n",
       "    }\n",
       "\n",
       "    .dataframe thead th {\n",
       "        text-align: right;\n",
       "    }\n",
       "</style>\n",
       "<table border=\"1\" class=\"dataframe\">\n",
       "  <thead>\n",
       "    <tr style=\"text-align: right;\">\n",
       "      <th></th>\n",
       "      <th>1636752663.000000</th>\n",
       "    </tr>\n",
       "  </thead>\n",
       "  <tbody>\n",
       "    <tr>\n",
       "      <th>0</th>\n",
       "      <td>4.000000</td>\n",
       "    </tr>\n",
       "    <tr>\n",
       "      <th>1</th>\n",
       "      <td>0.000000</td>\n",
       "    </tr>\n",
       "    <tr>\n",
       "      <th>2</th>\n",
       "      <td>0.683901</td>\n",
       "    </tr>\n",
       "    <tr>\n",
       "      <th>3</th>\n",
       "      <td>0.672642</td>\n",
       "    </tr>\n",
       "    <tr>\n",
       "      <th>4</th>\n",
       "      <td>0.606045</td>\n",
       "    </tr>\n",
       "  </tbody>\n",
       "</table>\n",
       "</div>"
      ],
      "text/plain": [
       "   1636752663.000000\n",
       "0           4.000000\n",
       "1           0.000000\n",
       "2           0.683901\n",
       "3           0.672642\n",
       "4           0.606045"
      ]
     },
     "execution_count": 9,
     "metadata": {},
     "output_type": "execute_result"
    }
   ],
   "source": [
    "EDA_file.head()"
   ]
  },
  {
   "cell_type": "code",
   "execution_count": 10,
   "id": "0a0865a5",
   "metadata": {},
   "outputs": [
    {
     "data": {
      "text/html": [
       "<div>\n",
       "<style scoped>\n",
       "    .dataframe tbody tr th:only-of-type {\n",
       "        vertical-align: middle;\n",
       "    }\n",
       "\n",
       "    .dataframe tbody tr th {\n",
       "        vertical-align: top;\n",
       "    }\n",
       "\n",
       "    .dataframe thead th {\n",
       "        text-align: right;\n",
       "    }\n",
       "</style>\n",
       "<table border=\"1\" class=\"dataframe\">\n",
       "  <thead>\n",
       "    <tr style=\"text-align: right;\">\n",
       "      <th></th>\n",
       "      <th>1636752663.000000</th>\n",
       "    </tr>\n",
       "  </thead>\n",
       "  <tbody>\n",
       "    <tr>\n",
       "      <th>count</th>\n",
       "      <td>22981.000000</td>\n",
       "    </tr>\n",
       "    <tr>\n",
       "      <th>mean</th>\n",
       "      <td>1.447492</td>\n",
       "    </tr>\n",
       "    <tr>\n",
       "      <th>std</th>\n",
       "      <td>1.394011</td>\n",
       "    </tr>\n",
       "    <tr>\n",
       "      <th>min</th>\n",
       "      <td>0.000000</td>\n",
       "    </tr>\n",
       "    <tr>\n",
       "      <th>25%</th>\n",
       "      <td>0.595799</td>\n",
       "    </tr>\n",
       "    <tr>\n",
       "      <th>50%</th>\n",
       "      <td>0.732835</td>\n",
       "    </tr>\n",
       "    <tr>\n",
       "      <th>75%</th>\n",
       "      <td>1.905056</td>\n",
       "    </tr>\n",
       "    <tr>\n",
       "      <th>max</th>\n",
       "      <td>6.822323</td>\n",
       "    </tr>\n",
       "  </tbody>\n",
       "</table>\n",
       "</div>"
      ],
      "text/plain": [
       "       1636752663.000000\n",
       "count       22981.000000\n",
       "mean            1.447492\n",
       "std             1.394011\n",
       "min             0.000000\n",
       "25%             0.595799\n",
       "50%             0.732835\n",
       "75%             1.905056\n",
       "max             6.822323"
      ]
     },
     "execution_count": 10,
     "metadata": {},
     "output_type": "execute_result"
    }
   ],
   "source": [
    "EDA_file.describe()"
   ]
  },
  {
   "cell_type": "code",
   "execution_count": 11,
   "id": "4f17bd21",
   "metadata": {},
   "outputs": [
    {
     "data": {
      "image/png": "[encoded data removed]",
      "text/plain": [
       "<Figure size 432x288 with 1 Axes>"
      ]
     },
     "metadata": {
      "needs_background": "light"
     },
     "output_type": "display_data"
    }
   ],
   "source": [
    "plt.scatter(EDA_file.index,EDA_file['1636752663.000000'])\n",
    "plt.xlabel('Index') \n",
    "plt.ylabel('Frequency') \n",
    "plt.title(\"Electrodermal Activity\")\n",
    "plt.show()"
   ]
  },
  {
   "cell_type": "code",
   "execution_count": 12,
   "id": "c20512b5",
   "metadata": {},
   "outputs": [],
   "source": [
    "HR_file=pd.read_csv(\"HR.csv\")"
   ]
  },
  {
   "cell_type": "code",
   "execution_count": 13,
   "id": "06409d72",
   "metadata": {},
   "outputs": [
    {
     "data": {
      "text/html": [
       "<div>\n",
       "<style scoped>\n",
       "    .dataframe tbody tr th:only-of-type {\n",
       "        vertical-align: middle;\n",
       "    }\n",
       "\n",
       "    .dataframe tbody tr th {\n",
       "        vertical-align: top;\n",
       "    }\n",
       "\n",
       "    .dataframe thead th {\n",
       "        text-align: right;\n",
       "    }\n",
       "</style>\n",
       "<table border=\"1\" class=\"dataframe\">\n",
       "  <thead>\n",
       "    <tr style=\"text-align: right;\">\n",
       "      <th></th>\n",
       "      <th>1636752673.000000</th>\n",
       "    </tr>\n",
       "  </thead>\n",
       "  <tbody>\n",
       "    <tr>\n",
       "      <th>0</th>\n",
       "      <td>1.00</td>\n",
       "    </tr>\n",
       "    <tr>\n",
       "      <th>1</th>\n",
       "      <td>70.00</td>\n",
       "    </tr>\n",
       "    <tr>\n",
       "      <th>2</th>\n",
       "      <td>76.50</td>\n",
       "    </tr>\n",
       "    <tr>\n",
       "      <th>3</th>\n",
       "      <td>79.33</td>\n",
       "    </tr>\n",
       "    <tr>\n",
       "      <th>4</th>\n",
       "      <td>74.00</td>\n",
       "    </tr>\n",
       "  </tbody>\n",
       "</table>\n",
       "</div>"
      ],
      "text/plain": [
       "   1636752673.000000\n",
       "0               1.00\n",
       "1              70.00\n",
       "2              76.50\n",
       "3              79.33\n",
       "4              74.00"
      ]
     },
     "execution_count": 13,
     "metadata": {},
     "output_type": "execute_result"
    }
   ],
   "source": [
    "HR_file.head()"
   ]
  },
  {
   "cell_type": "code",
   "execution_count": 14,
   "id": "ced74a9a",
   "metadata": {},
   "outputs": [
    {
     "data": {
      "image/png": "[encoded data removed]",
      "text/plain": [
       "<Figure size 432x288 with 1 Axes>"
      ]
     },
     "metadata": {
      "needs_background": "light"
     },
     "output_type": "display_data"
    }
   ],
   "source": [
    "plt.scatter(HR_file.index,HR_file['1636752673.000000'])\n",
    "plt.xlabel('Index') \n",
    "plt.ylabel('Beats Per Minute') \n",
    "plt.title(\"Heart Rate\")\n",
    "plt.show()"
   ]
  },
  {
   "cell_type": "code",
   "execution_count": 15,
   "id": "5c149ddb",
   "metadata": {},
   "outputs": [
    {
     "data": {
      "text/plain": [
       "<AxesSubplot:xlabel='Stress', ylabel='EDAR_Mean'>"
      ]
     },
     "execution_count": 15,
     "metadata": {},
     "output_type": "execute_result"
    },
    {
     "data": {
      "image/png": "[encoded data removed]",
      "text/plain": [
       "<Figure size 432x288 with 1 Axes>"
      ]
     },
     "metadata": {
      "needs_background": "light"
     },
     "output_type": "display_data"
    }
   ],
   "source": [
    "sns.boxplot(y='EDAR_Mean', x='Stress', data=stress_clinical)"
   ]
  },
  {
   "cell_type": "code",
   "execution_count": 16,
   "id": "b36b29c9",
   "metadata": {},
   "outputs": [
    {
     "data": {
      "text/plain": [
       "<seaborn.axisgrid.FacetGrid at 0x7fd5041b79a0>"
      ]
     },
     "execution_count": 16,
     "metadata": {},
     "output_type": "execute_result"
    },
    {
     "data": {
      "image/png": "[encoded data removed]",
      "text/plain": [
       "<Figure size 360x360 with 1 Axes>"
      ]
     },
     "metadata": {
      "needs_background": "light"
     },
     "output_type": "display_data"
    }
   ],
   "source": [
    "sns.catplot(data=stress_clinical, x=\"Stress\", y=\"EDAR_Mean\")"
   ]
  },
  {
   "cell_type": "code",
   "execution_count": 17,
   "id": "089712f5",
   "metadata": {},
   "outputs": [
    {
     "data": {
      "text/plain": [
       "<seaborn.axisgrid.FacetGrid at 0x7fd5041b7280>"
      ]
     },
     "execution_count": 17,
     "metadata": {},
     "output_type": "execute_result"
    },
    {
     "data": {
      "image/png": "[encoded data removed]",
      "text/plain": [
       "<Figure size 360x360 with 1 Axes>"
      ]
     },
     "metadata": {
      "needs_background": "light"
     },
     "output_type": "display_data"
    }
   ],
   "source": [
    "sns.catplot(data=stress_clinical, x=\"Stress\", y=\"EDAR_Max\")"
   ]
  },
  {
   "cell_type": "code",
   "execution_count": 18,
   "id": "c661443b",
   "metadata": {},
   "outputs": [
    {
     "data": {
      "text/plain": [
       "<seaborn.axisgrid.FacetGrid at 0x7fd5043c06a0>"
      ]
     },
     "execution_count": 18,
     "metadata": {},
     "output_type": "execute_result"
    },
    {
     "data": {
      "image/png": "[encoded data removed]",
      "text/plain": [
       "<Figure size 360x360 with 1 Axes>"
      ]
     },
     "metadata": {
      "needs_background": "light"
     },
     "output_type": "display_data"
    }
   ],
   "source": [
    "sns.catplot(data=stress_clinical, x=\"Stress\", y=\"HRR_Mean\")"
   ]
  },
  {
   "cell_type": "code",
   "execution_count": 19,
   "id": "e96cba17",
   "metadata": {},
   "outputs": [
    {
     "data": {
      "text/plain": [
       "<seaborn.axisgrid.FacetGrid at 0x7fd5041eea60>"
      ]
     },
     "execution_count": 19,
     "metadata": {},
     "output_type": "execute_result"
    },
    {
     "data": {
      "image/png": "[encoded data removed]",
      "text/plain": [
       "<Figure size 360x360 with 1 Axes>"
      ]
     },
     "metadata": {
      "needs_background": "light"
     },
     "output_type": "display_data"
    }
   ],
   "source": [
    "sns.catplot(data=stress_clinical, x=\"Stress\", y=\"TEMPR_Mean\")"
   ]
  },
  {
   "cell_type": "code",
   "execution_count": null,
   "id": "d49f3fa3",
   "metadata": {},
   "outputs": [],
   "source": []
  },
  {
   "cell_type": "code",
   "execution_count": 20,
   "id": "b797e85c",
   "metadata": {},
   "outputs": [
    {
     "data": {
      "image/png": "[encoded data removed]",
      "text/plain": [
       "<Figure size 432x288 with 1 Axes>"
      ]
     },
     "metadata": {
      "needs_background": "light"
     },
     "output_type": "display_data"
    }
   ],
   "source": [
    "plt.scatter(stress_clinical.index,stress_clinical['EDAR_Std'])\n",
    "plt.show()"
   ]
  },
  {
   "cell_type": "code",
   "execution_count": 21,
   "id": "10156591",
   "metadata": {},
   "outputs": [],
   "source": [
    "#final dataframe with the selected features for skin activity,temperature and Heart Rate"
   ]
  },
  {
   "cell_type": "code",
   "execution_count": 22,
   "id": "cb52aa37",
   "metadata": {},
   "outputs": [],
   "source": [
    "df2=stress_clinical.drop(stress_clinical.iloc[:, 0:30],axis = 1)"
   ]
  },
  {
   "cell_type": "code",
   "execution_count": 23,
   "id": "e1da0528",
   "metadata": {},
   "outputs": [
    {
     "data": {
      "text/html": [
       "<div>\n",
       "<style scoped>\n",
       "    .dataframe tbody tr th:only-of-type {\n",
       "        vertical-align: middle;\n",
       "    }\n",
       "\n",
       "    .dataframe tbody tr th {\n",
       "        vertical-align: top;\n",
       "    }\n",
       "\n",
       "    .dataframe thead th {\n",
       "        text-align: right;\n",
       "    }\n",
       "</style>\n",
       "<table border=\"1\" class=\"dataframe\">\n",
       "  <thead>\n",
       "    <tr style=\"text-align: right;\">\n",
       "      <th></th>\n",
       "      <th>EDAR_Mean</th>\n",
       "      <th>EDAR_Min</th>\n",
       "      <th>EDAR_Max</th>\n",
       "      <th>EDAR_Std</th>\n",
       "      <th>EDAR_Kurtosis</th>\n",
       "      <th>EDAR_Skew</th>\n",
       "      <th>Num_PeaksR</th>\n",
       "      <th>EDAR_Amphitude</th>\n",
       "      <th>EDAR_Duration</th>\n",
       "      <th>HRR_Mean</th>\n",
       "      <th>HRR_Min</th>\n",
       "      <th>HRR_Max</th>\n",
       "      <th>HRR_Std</th>\n",
       "      <th>HRR_RMS</th>\n",
       "      <th>TEMPR_Mean</th>\n",
       "      <th>TEMPR_Min</th>\n",
       "      <th>TEMPR_Max</th>\n",
       "      <th>TEMPR_Std</th>\n",
       "      <th>Stress</th>\n",
       "    </tr>\n",
       "  </thead>\n",
       "  <tbody>\n",
       "    <tr>\n",
       "      <th>0</th>\n",
       "      <td>0.105191</td>\n",
       "      <td>0.104202</td>\n",
       "      <td>0.107022</td>\n",
       "      <td>0.035656</td>\n",
       "      <td>0.224016</td>\n",
       "      <td>0.556235</td>\n",
       "      <td>0.0</td>\n",
       "      <td>0.000000</td>\n",
       "      <td>0.000000</td>\n",
       "      <td>0.641552</td>\n",
       "      <td>0.639566</td>\n",
       "      <td>0.643243</td>\n",
       "      <td>0.100525</td>\n",
       "      <td>0.235069</td>\n",
       "      <td>0.821491</td>\n",
       "      <td>0.821239</td>\n",
       "      <td>0.823944</td>\n",
       "      <td>0.120422</td>\n",
       "      <td>0.0</td>\n",
       "    </tr>\n",
       "    <tr>\n",
       "      <th>1</th>\n",
       "      <td>0.102822</td>\n",
       "      <td>0.102238</td>\n",
       "      <td>0.103630</td>\n",
       "      <td>0.023788</td>\n",
       "      <td>0.245929</td>\n",
       "      <td>0.506460</td>\n",
       "      <td>0.0</td>\n",
       "      <td>0.000000</td>\n",
       "      <td>0.000000</td>\n",
       "      <td>0.642973</td>\n",
       "      <td>0.639566</td>\n",
       "      <td>0.643243</td>\n",
       "      <td>0.089270</td>\n",
       "      <td>0.229293</td>\n",
       "      <td>0.827471</td>\n",
       "      <td>0.828319</td>\n",
       "      <td>0.830986</td>\n",
       "      <td>0.105027</td>\n",
       "      <td>0.0</td>\n",
       "    </tr>\n",
       "    <tr>\n",
       "      <th>2</th>\n",
       "      <td>0.101157</td>\n",
       "      <td>0.101213</td>\n",
       "      <td>0.101679</td>\n",
       "      <td>0.018717</td>\n",
       "      <td>0.239148</td>\n",
       "      <td>0.594386</td>\n",
       "      <td>0.0</td>\n",
       "      <td>0.033423</td>\n",
       "      <td>0.000000</td>\n",
       "      <td>0.643921</td>\n",
       "      <td>0.640921</td>\n",
       "      <td>0.645946</td>\n",
       "      <td>0.083372</td>\n",
       "      <td>0.157093</td>\n",
       "      <td>0.832395</td>\n",
       "      <td>0.831858</td>\n",
       "      <td>0.834507</td>\n",
       "      <td>0.099446</td>\n",
       "      <td>0.0</td>\n",
       "    </tr>\n",
       "    <tr>\n",
       "      <th>3</th>\n",
       "      <td>0.099952</td>\n",
       "      <td>0.100359</td>\n",
       "      <td>0.099644</td>\n",
       "      <td>0.011283</td>\n",
       "      <td>0.192728</td>\n",
       "      <td>0.504364</td>\n",
       "      <td>0.0</td>\n",
       "      <td>0.000000</td>\n",
       "      <td>0.000000</td>\n",
       "      <td>0.645952</td>\n",
       "      <td>0.644986</td>\n",
       "      <td>0.645946</td>\n",
       "      <td>0.041375</td>\n",
       "      <td>0.131024</td>\n",
       "      <td>0.837759</td>\n",
       "      <td>0.842478</td>\n",
       "      <td>0.839789</td>\n",
       "      <td>0.089739</td>\n",
       "      <td>0.0</td>\n",
       "    </tr>\n",
       "    <tr>\n",
       "      <th>4</th>\n",
       "      <td>0.099298</td>\n",
       "      <td>0.100188</td>\n",
       "      <td>0.098796</td>\n",
       "      <td>0.005735</td>\n",
       "      <td>0.315883</td>\n",
       "      <td>0.630771</td>\n",
       "      <td>0.0</td>\n",
       "      <td>0.000000</td>\n",
       "      <td>0.000000</td>\n",
       "      <td>0.646764</td>\n",
       "      <td>0.644986</td>\n",
       "      <td>0.648649</td>\n",
       "      <td>0.066093</td>\n",
       "      <td>0.113470</td>\n",
       "      <td>0.843123</td>\n",
       "      <td>0.846018</td>\n",
       "      <td>0.848592</td>\n",
       "      <td>0.095171</td>\n",
       "      <td>0.0</td>\n",
       "    </tr>\n",
       "    <tr>\n",
       "      <th>...</th>\n",
       "      <td>...</td>\n",
       "      <td>...</td>\n",
       "      <td>...</td>\n",
       "      <td>...</td>\n",
       "      <td>...</td>\n",
       "      <td>...</td>\n",
       "      <td>...</td>\n",
       "      <td>...</td>\n",
       "      <td>...</td>\n",
       "      <td>...</td>\n",
       "      <td>...</td>\n",
       "      <td>...</td>\n",
       "      <td>...</td>\n",
       "      <td>...</td>\n",
       "      <td>...</td>\n",
       "      <td>...</td>\n",
       "      <td>...</td>\n",
       "      <td>...</td>\n",
       "      <td>...</td>\n",
       "    </tr>\n",
       "    <tr>\n",
       "      <th>12440</th>\n",
       "      <td>0.067427</td>\n",
       "      <td>0.057824</td>\n",
       "      <td>0.077510</td>\n",
       "      <td>0.156687</td>\n",
       "      <td>0.199887</td>\n",
       "      <td>0.512518</td>\n",
       "      <td>0.0</td>\n",
       "      <td>0.000000</td>\n",
       "      <td>0.000000</td>\n",
       "      <td>0.696047</td>\n",
       "      <td>0.696477</td>\n",
       "      <td>0.694595</td>\n",
       "      <td>0.037640</td>\n",
       "      <td>0.113470</td>\n",
       "      <td>0.504045</td>\n",
       "      <td>0.506195</td>\n",
       "      <td>0.503521</td>\n",
       "      <td>0.074744</td>\n",
       "      <td>0.0</td>\n",
       "    </tr>\n",
       "    <tr>\n",
       "      <th>12441</th>\n",
       "      <td>0.078543</td>\n",
       "      <td>0.069611</td>\n",
       "      <td>0.084718</td>\n",
       "      <td>0.116968</td>\n",
       "      <td>0.242380</td>\n",
       "      <td>0.423325</td>\n",
       "      <td>0.0</td>\n",
       "      <td>0.000000</td>\n",
       "      <td>0.000000</td>\n",
       "      <td>0.697062</td>\n",
       "      <td>0.696477</td>\n",
       "      <td>0.697297</td>\n",
       "      <td>0.032084</td>\n",
       "      <td>0.080236</td>\n",
       "      <td>0.501935</td>\n",
       "      <td>0.502655</td>\n",
       "      <td>0.503521</td>\n",
       "      <td>0.088706</td>\n",
       "      <td>0.0</td>\n",
       "    </tr>\n",
       "    <tr>\n",
       "      <th>12442</th>\n",
       "      <td>0.085600</td>\n",
       "      <td>0.081397</td>\n",
       "      <td>0.088111</td>\n",
       "      <td>0.061269</td>\n",
       "      <td>0.243079</td>\n",
       "      <td>0.411081</td>\n",
       "      <td>0.0</td>\n",
       "      <td>0.000000</td>\n",
       "      <td>0.000000</td>\n",
       "      <td>0.696927</td>\n",
       "      <td>0.696477</td>\n",
       "      <td>0.697297</td>\n",
       "      <td>0.052638</td>\n",
       "      <td>0.153640</td>\n",
       "      <td>0.498065</td>\n",
       "      <td>0.497345</td>\n",
       "      <td>0.500000</td>\n",
       "      <td>0.093660</td>\n",
       "      <td>0.0</td>\n",
       "    </tr>\n",
       "    <tr>\n",
       "      <th>12443</th>\n",
       "      <td>0.088589</td>\n",
       "      <td>0.087718</td>\n",
       "      <td>0.088365</td>\n",
       "      <td>0.018788</td>\n",
       "      <td>0.383277</td>\n",
       "      <td>0.280357</td>\n",
       "      <td>0.5</td>\n",
       "      <td>0.000000</td>\n",
       "      <td>0.403326</td>\n",
       "      <td>0.696182</td>\n",
       "      <td>0.696477</td>\n",
       "      <td>0.697297</td>\n",
       "      <td>0.053092</td>\n",
       "      <td>0.160471</td>\n",
       "      <td>0.497186</td>\n",
       "      <td>0.497345</td>\n",
       "      <td>0.496479</td>\n",
       "      <td>0.074585</td>\n",
       "      <td>0.0</td>\n",
       "    </tr>\n",
       "    <tr>\n",
       "      <th>12444</th>\n",
       "      <td>0.088173</td>\n",
       "      <td>0.087291</td>\n",
       "      <td>0.088365</td>\n",
       "      <td>0.024395</td>\n",
       "      <td>0.215783</td>\n",
       "      <td>0.404174</td>\n",
       "      <td>0.0</td>\n",
       "      <td>0.013168</td>\n",
       "      <td>0.000000</td>\n",
       "      <td>0.696317</td>\n",
       "      <td>0.696477</td>\n",
       "      <td>0.697297</td>\n",
       "      <td>0.049196</td>\n",
       "      <td>0.131024</td>\n",
       "      <td>0.497538</td>\n",
       "      <td>0.502655</td>\n",
       "      <td>0.496479</td>\n",
       "      <td>0.047772</td>\n",
       "      <td>0.0</td>\n",
       "    </tr>\n",
       "  </tbody>\n",
       "</table>\n",
       "<p>12445 rows × 19 columns</p>\n",
       "</div>"
      ],
      "text/plain": [
       "       EDAR_Mean  EDAR_Min  EDAR_Max  EDAR_Std  EDAR_Kurtosis  EDAR_Skew  \\\n",
       "0       0.105191  0.104202  0.107022  0.035656       0.224016   0.556235   \n",
       "1       0.102822  0.102238  0.103630  0.023788       0.245929   0.506460   \n",
       "2       0.101157  0.101213  0.101679  0.018717       0.239148   0.594386   \n",
       "3       0.099952  0.100359  0.099644  0.011283       0.192728   0.504364   \n",
       "4       0.099298  0.100188  0.098796  0.005735       0.315883   0.630771   \n",
       "...          ...       ...       ...       ...            ...        ...   \n",
       "12440   0.067427  0.057824  0.077510  0.156687       0.199887   0.512518   \n",
       "12441   0.078543  0.069611  0.084718  0.116968       0.242380   0.423325   \n",
       "12442   0.085600  0.081397  0.088111  0.061269       0.243079   0.411081   \n",
       "12443   0.088589  0.087718  0.088365  0.018788       0.383277   0.280357   \n",
       "12444   0.088173  0.087291  0.088365  0.024395       0.215783   0.404174   \n",
       "\n",
       "       Num_PeaksR  EDAR_Amphitude  EDAR_Duration  HRR_Mean   HRR_Min  \\\n",
       "0             0.0        0.000000       0.000000  0.641552  0.639566   \n",
       "1             0.0        0.000000       0.000000  0.642973  0.639566   \n",
       "2             0.0        0.033423       0.000000  0.643921  0.640921   \n",
       "3             0.0        0.000000       0.000000  0.645952  0.644986   \n",
       "4             0.0        0.000000       0.000000  0.646764  0.644986   \n",
       "...           ...             ...            ...       ...       ...   \n",
       "12440         0.0        0.000000       0.000000  0.696047  0.696477   \n",
       "12441         0.0        0.000000       0.000000  0.697062  0.696477   \n",
       "12442         0.0        0.000000       0.000000  0.696927  0.696477   \n",
       "12443         0.5        0.000000       0.403326  0.696182  0.696477   \n",
       "12444         0.0        0.013168       0.000000  0.696317  0.696477   \n",
       "\n",
       "        HRR_Max   HRR_Std   HRR_RMS  TEMPR_Mean  TEMPR_Min  TEMPR_Max  \\\n",
       "0      0.643243  0.100525  0.235069    0.821491   0.821239   0.823944   \n",
       "1      0.643243  0.089270  0.229293    0.827471   0.828319   0.830986   \n",
       "2      0.645946  0.083372  0.157093    0.832395   0.831858   0.834507   \n",
       "3      0.645946  0.041375  0.131024    0.837759   0.842478   0.839789   \n",
       "4      0.648649  0.066093  0.113470    0.843123   0.846018   0.848592   \n",
       "...         ...       ...       ...         ...        ...        ...   \n",
       "12440  0.694595  0.037640  0.113470    0.504045   0.506195   0.503521   \n",
       "12441  0.697297  0.032084  0.080236    0.501935   0.502655   0.503521   \n",
       "12442  0.697297  0.052638  0.153640    0.498065   0.497345   0.500000   \n",
       "12443  0.697297  0.053092  0.160471    0.497186   0.497345   0.496479   \n",
       "12444  0.697297  0.049196  0.131024    0.497538   0.502655   0.496479   \n",
       "\n",
       "       TEMPR_Std  Stress  \n",
       "0       0.120422     0.0  \n",
       "1       0.105027     0.0  \n",
       "2       0.099446     0.0  \n",
       "3       0.089739     0.0  \n",
       "4       0.095171     0.0  \n",
       "...          ...     ...  \n",
       "12440   0.074744     0.0  \n",
       "12441   0.088706     0.0  \n",
       "12442   0.093660     0.0  \n",
       "12443   0.074585     0.0  \n",
       "12444   0.047772     0.0  \n",
       "\n",
       "[12445 rows x 19 columns]"
      ]
     },
     "execution_count": 23,
     "metadata": {},
     "output_type": "execute_result"
    }
   ],
   "source": [
    "df2"
   ]
  },
  {
   "cell_type": "code",
   "execution_count": 24,
   "id": "5a5ebcd6",
   "metadata": {},
   "outputs": [],
   "source": [
    "features = df2.drop(['Stress'], axis=1) \n",
    "target = stress_clinical['Stress']"
   ]
  },
  {
   "cell_type": "code",
   "execution_count": 25,
   "id": "e411dc88",
   "metadata": {},
   "outputs": [
    {
     "name": "stdout",
     "output_type": "stream",
     "text": [
      "Shape of training feature: (9956, 18)\n",
      "Shape of testing feature: (2489, 18)\n",
      "Shape of training label: (9956,)\n",
      "Shape of testing label: (2489,)\n"
     ]
    }
   ],
   "source": [
    "\n",
    "\n",
    "#Training and testing data\n",
    "\n",
    "X_train, X_test, y_train, y_test = train_test_split(features, target, shuffle = True, test_size = .2, random_state = 44)\n",
    "print('Shape of training feature:', X_train.shape)\n",
    "print('Shape of testing feature:', X_test.shape)\n",
    "print('Shape of training label:', y_train.shape)\n",
    "print('Shape of testing label:', y_test.shape)"
   ]
  },
  {
   "cell_type": "code",
   "execution_count": null,
   "id": "2d8847b4",
   "metadata": {},
   "outputs": [],
   "source": []
  },
  {
   "cell_type": "markdown",
   "id": "30adeaa5",
   "metadata": {},
   "source": [
    "Decision Tree Regressor"
   ]
  },
  {
   "cell_type": "code",
   "execution_count": null,
   "id": "8a552029",
   "metadata": {},
   "outputs": [],
   "source": []
  },
  {
   "cell_type": "code",
   "execution_count": 44,
   "id": "289b9060",
   "metadata": {},
   "outputs": [
    {
     "data": {
      "text/plain": [
       "DecisionTreeRegressor(random_state=0)"
      ]
     },
     "execution_count": 44,
     "metadata": {},
     "output_type": "execute_result"
    }
   ],
   "source": [
    "dt = DecisionTreeRegressor(random_state=0)\n",
    "dt.fit(X_train, y_train)"
   ]
  },
  {
   "cell_type": "code",
   "execution_count": 45,
   "id": "4804026f",
   "metadata": {},
   "outputs": [],
   "source": [
    "y_pred= dt.predict(X_test)"
   ]
  },
  {
   "cell_type": "code",
   "execution_count": 48,
   "id": "ceb13e0c",
   "metadata": {},
   "outputs": [
    {
     "name": "stdout",
     "output_type": "stream",
     "text": [
      "Mean squared error: 0.2595419847328244\n",
      "Rsquared score: 0.6842556503898365\n",
      "RMSE: 0.5094526324721704\n"
     ]
    }
   ],
   "source": [
    "\n",
    "print('Mean squared error:',mean_squared_error(y_test,y_pred))\n",
    "print('Rsquared score:',r2_score(y_test, y_pred))\n",
    "print('RMSE:',sqrt(mean_squared_error(y_test,y_pred)))\n",
    "\n"
   ]
  },
  {
   "cell_type": "code",
   "execution_count": null,
   "id": "e184d26b",
   "metadata": {},
   "outputs": [],
   "source": []
  },
  {
   "cell_type": "markdown",
   "id": "496ee93d",
   "metadata": {},
   "source": [
    "Random Forest"
   ]
  },
  {
   "cell_type": "code",
   "execution_count": 421,
   "id": "627f4621",
   "metadata": {},
   "outputs": [],
   "source": [
    "#Hyperparameter tuning using GridSearchCV"
   ]
  },
  {
   "cell_type": "code",
   "execution_count": 49,
   "id": "7adaffab",
   "metadata": {},
   "outputs": [],
   "source": [
    "n_estimators = [5,20,30,50,100] \n",
    "min_samples_split = [2, 6,8,10] \n",
    "bootstrap = [True, False] \n",
    "max_depth = [int(x) for x in np.linspace(10, 100, num = 10)] \n",
    "min_samples_leaf = [1,2, 3, 4] \n",
    "max_features = ['auto', 'sqrt'] \n",
    "\n",
    "random_grid = {'n_estimators': n_estimators,'max_features': max_features,'max_depth': max_depth,'min_samples_split': min_samples_split,\n",
    "'min_samples_leaf': min_samples_leaf,'bootstrap': bootstrap}"
   ]
  },
  {
   "cell_type": "code",
   "execution_count": 50,
   "id": "e4fc1533",
   "metadata": {},
   "outputs": [],
   "source": [
    "rf = RandomForestRegressor()"
   ]
  },
  {
   "cell_type": "code",
   "execution_count": 51,
   "id": "103abc9f",
   "metadata": {},
   "outputs": [],
   "source": [
    "\n",
    "rf_search = RandomizedSearchCV(estimator = rf,param_distributions = random_grid,\n",
    "               n_iter = 50, cv = 5, verbose=2, random_state=30, n_jobs = -1)\n"
   ]
  },
  {
   "cell_type": "code",
   "execution_count": 52,
   "id": "9870cbf2",
   "metadata": {},
   "outputs": [
    {
     "name": "stdout",
     "output_type": "stream",
     "text": [
      "Fitting 5 folds for each of 50 candidates, totalling 250 fits\n"
     ]
    },
    {
     "data": {
      "text/plain": [
       "RandomizedSearchCV(cv=5, estimator=RandomForestRegressor(), n_iter=50,\n",
       "                   n_jobs=-1,\n",
       "                   param_distributions={'bootstrap': [True, False],\n",
       "                                        'max_depth': [10, 20, 30, 40, 50, 60,\n",
       "                                                      70, 80, 90, 100],\n",
       "                                        'max_features': ['auto', 'sqrt'],\n",
       "                                        'min_samples_leaf': [1, 2, 3, 4],\n",
       "                                        'min_samples_split': [2, 6, 8, 10],\n",
       "                                        'n_estimators': [5, 20, 30, 50, 100]},\n",
       "                   random_state=30, verbose=2)"
      ]
     },
     "execution_count": 52,
     "metadata": {},
     "output_type": "execute_result"
    }
   ],
   "source": [
    "rf_search.fit(X_train, y_train)"
   ]
  },
  {
   "cell_type": "code",
   "execution_count": 53,
   "id": "cc8c5102",
   "metadata": {},
   "outputs": [
    {
     "name": "stdout",
     "output_type": "stream",
     "text": [
      "Best Parameters:  {'n_estimators': 50, 'min_samples_split': 6, 'min_samples_leaf': 2, 'max_features': 'sqrt', 'max_depth': 30, 'bootstrap': False}  \n",
      "\n"
     ]
    }
   ],
   "source": [
    "#Best parameters\n",
    "print ('Best Parameters: ', rf_search.best_params_, ' \\n')\n"
   ]
  },
  {
   "cell_type": "code",
   "execution_count": 427,
   "id": "a2c04177",
   "metadata": {},
   "outputs": [],
   "source": [
    "#Using our best parameters "
   ]
  },
  {
   "cell_type": "code",
   "execution_count": 54,
   "id": "1de5ec70",
   "metadata": {},
   "outputs": [],
   "source": [
    "clf = RandomForestRegressor(n_estimators = 50, min_samples_split = 6, min_samples_leaf= 2, max_features = 'sqrt', max_depth= 30, bootstrap=False) \n",
    "\n",
    "clf.fit(X_train, y_train)\n",
    " \n",
    "y_pred = clf.predict(X_test)"
   ]
  },
  {
   "cell_type": "code",
   "execution_count": 55,
   "id": "b6e272ea",
   "metadata": {},
   "outputs": [
    {
     "name": "stdout",
     "output_type": "stream",
     "text": [
      "Mean squared error: 0.12941439092004822\n",
      "Rsquared score: 0.8425616466896106\n",
      "RMSE: 0.35974211724518473\n"
     ]
    }
   ],
   "source": [
    "print('Mean squared error:',mean_squared_error(y_test,y_pred))\n",
    "print('Rsquared score:',r2_score(y_test, y_pred))\n",
    "print('RMSE:',sqrt(mean_squared_error(y_test,y_pred)))\n",
    "\n"
   ]
  },
  {
   "cell_type": "code",
   "execution_count": null,
   "id": "8c0f6a07",
   "metadata": {},
   "outputs": [],
   "source": []
  },
  {
   "cell_type": "code",
   "execution_count": 430,
   "id": "3ac2fed1",
   "metadata": {},
   "outputs": [],
   "source": [
    "#Feature Importance"
   ]
  },
  {
   "cell_type": "code",
   "execution_count": 56,
   "id": "533f8904",
   "metadata": {},
   "outputs": [],
   "source": [
    " \n",
    "imp = clf.feature_importances_\n",
    "indx = np.argsort(imp)[::-1]"
   ]
  },
  {
   "cell_type": "code",
   "execution_count": 57,
   "id": "51d17997",
   "metadata": {},
   "outputs": [
    {
     "data": {
      "image/png": "[encoded data removed]",
      "text/plain": [
       "<Figure size 432x288 with 1 Axes>"
      ]
     },
     "metadata": {
      "needs_background": "light"
     },
     "output_type": "display_data"
    }
   ],
   "source": [
    " \n",
    "plt.title('Feature Importance Graph using Random Forest')\n",
    "plt.bar(range(X_train.shape[1]), imp[indx], align='center')\n",
    "plt.xticks(range(X_train.shape[1]), X_train.columns[indx], rotation=90)\n",
    "plt.tight_layout()\n",
    "plt.show()"
   ]
  },
  {
   "cell_type": "code",
   "execution_count": null,
   "id": "77ee64e8",
   "metadata": {},
   "outputs": [],
   "source": []
  },
  {
   "cell_type": "code",
   "execution_count": null,
   "id": "63fe9452",
   "metadata": {},
   "outputs": [],
   "source": []
  },
  {
   "cell_type": "markdown",
   "id": "2ba45a4e",
   "metadata": {},
   "source": [
    "XGBoost"
   ]
  },
  {
   "cell_type": "code",
   "execution_count": null,
   "id": "9a077c27",
   "metadata": {},
   "outputs": [],
   "source": []
  },
  {
   "cell_type": "code",
   "execution_count": 62,
   "id": "3c51eead",
   "metadata": {},
   "outputs": [],
   "source": [
    "xclf = xgb.XGBRegressor(max_depth=7, n_estimators=300)\n",
    "xclf.fit(X_train, y_train)  \n",
    "y_pred = xclf.predict(X_test)"
   ]
  },
  {
   "cell_type": "code",
   "execution_count": null,
   "id": "edd6b19a",
   "metadata": {},
   "outputs": [],
   "source": []
  },
  {
   "cell_type": "code",
   "execution_count": 63,
   "id": "a98a3954",
   "metadata": {},
   "outputs": [
    {
     "data": {
      "text/plain": [
       "0.18073138536456254"
      ]
     },
     "execution_count": 63,
     "metadata": {},
     "output_type": "execute_result"
    }
   ],
   "source": [
    "mean_squared_error(y_test,y_pred)"
   ]
  },
  {
   "cell_type": "code",
   "execution_count": 64,
   "id": "e3765c3a",
   "metadata": {},
   "outputs": [
    {
     "data": {
      "text/plain": [
       "0.42512514082863007"
      ]
     },
     "execution_count": 64,
     "metadata": {},
     "output_type": "execute_result"
    }
   ],
   "source": [
    "sqrt(mean_squared_error(y_test,y_pred))"
   ]
  },
  {
   "cell_type": "code",
   "execution_count": 65,
   "id": "934beec1",
   "metadata": {},
   "outputs": [
    {
     "data": {
      "text/plain": [
       "0.7801322441730538"
      ]
     },
     "execution_count": 65,
     "metadata": {},
     "output_type": "execute_result"
    }
   ],
   "source": [
    "r2_score(y_test, y_pred)"
   ]
  },
  {
   "cell_type": "code",
   "execution_count": null,
   "id": "d6274af0",
   "metadata": {},
   "outputs": [],
   "source": []
  },
  {
   "cell_type": "code",
   "execution_count": null,
   "id": "301b9851",
   "metadata": {},
   "outputs": [],
   "source": []
  }
 ],
 "metadata": {
  "kernelspec": {
   "display_name": "Python 3 (ipykernel)",
   "language": "python",
   "name": "python3"
  },
  "language_info": {
   "codemirror_mode": {
    "name": "ipython",
    "version": 3
   },
   "file_extension": ".py",
   "mimetype": "text/x-python",
   "name": "python",
   "nbconvert_exporter": "python",
   "pygments_lexer": "ipython3",
   "version": "3.9.12"
  }
 },
 "nbformat": 4,
 "nbformat_minor": 5
}
